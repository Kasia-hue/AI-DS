{
 "cells": [
  {
   "cell_type": "markdown",
   "id": "22aa4d19-fb75-4f0e-ae51-927c3618ed25",
   "metadata": {},
   "source": [
    "## K fold cross-validation"
   ]
  },
  {
   "cell_type": "code",
   "execution_count": 1,
   "id": "00ea3eda-3902-479f-ad72-f4cfbf8e2a11",
   "metadata": {},
   "outputs": [],
   "source": [
    "import warnings\n",
    "warnings.filterwarnings('ignore')\n",
    "from sklearn.datasets import load_iris\n",
    "from sklearn.model_selection import KFold, cross_val_score\n",
    "from sklearn.linear_model import LogisticRegression\n",
    "from sklearn.metrics import accuracy_score\n",
    "\n",
    "# Load the Iris dataset\n",
    "iris = load_iris()"
   ]
  },
  {
   "cell_type": "code",
   "execution_count": 2,
   "id": "429c1936-baf9-4e12-ab73-f80b1aeb53b1",
   "metadata": {},
   "outputs": [],
   "source": [
    "X, y = iris.data, iris.target"
   ]
  },
  {
   "cell_type": "code",
   "execution_count": 3,
   "id": "1143471a-7d50-43c2-8053-fb7de3254763",
   "metadata": {},
   "outputs": [],
   "source": [
    "# Define the number of folds (K)\n",
    "k = 5\n",
    "\n",
    "# Initialize a KFold object\n",
    "kf = KFold(n_splits=k, shuffle=True, random_state=42)\n",
    "clf = LogisticRegression()"
   ]
  },
  {
   "cell_type": "code",
   "execution_count": 4,
   "id": "99134487-0cd7-49de-b5bf-615676fe8bf8",
   "metadata": {},
   "outputs": [],
   "source": [
    "# Initialize a list to store the accuracies\n",
    "accuracies = []\n",
    "\n",
    "# Perform K-fold cross-validation\n",
    "for train_index, test_index in kf.split(X):\n",
    "    # Split the dataset into train and test sets for this fold\n",
    "    X_train, X_test = X[train_index], X[test_index]\n",
    "    y_train, y_test = y[train_index], y[test_index]\n",
    "    \n",
    "    # Train the classifier\n",
    "    clf.fit(X_train, y_train)\n",
    "    \n",
    "    # Make predictions on the test set\n",
    "    y_pred = clf.predict(X_test)"
   ]
  },
  {
   "cell_type": "code",
   "execution_count": 5,
   "id": "abb43251-4c00-4886-97b0-7cb354a07f10",
   "metadata": {},
   "outputs": [],
   "source": [
    "scores = cross_val_score(clf, X, y, cv = kf)"
   ]
  },
  {
   "cell_type": "code",
   "execution_count": 6,
   "id": "633d3b05-38fd-49f1-9307-a9de6113aab1",
   "metadata": {},
   "outputs": [
    {
     "name": "stdout",
     "output_type": "stream",
     "text": [
      "Test accuracy: 0.9666666666666667 validation accuracy 0.9733333333333334\n"
     ]
    }
   ],
   "source": [
    "# Calculate the average accuracy across all folds\n",
    "accuracy = accuracy_score(y_test, y_pred)\n",
    "print(\"Test accuracy:\", accuracy, \"validation accuracy\", scores.mean())"
   ]
  },
  {
   "cell_type": "markdown",
   "id": "41624551-b46e-4dc1-9689-81c42f685873",
   "metadata": {},
   "source": [
    "## LOO"
   ]
  },
  {
   "cell_type": "code",
   "execution_count": 7,
   "id": "3b47daa0-458c-400d-93b4-5d5b8b0ee97a",
   "metadata": {},
   "outputs": [],
   "source": [
    "from sklearn.model_selection import LeaveOneOut\n",
    "from sklearn.model_selection import train_test_split\n",
    "\n",
    "X, y = iris.data, iris.target\n",
    "\n",
    "# Initialize the Leave-One-Out Cross-Validator\n",
    "loo = LeaveOneOut()\n",
    "\n",
    "# Initialize a classifier (e.g., Logistic Regression)\n",
    "classifier = LogisticRegression()"
   ]
  },
  {
   "cell_type": "code",
   "execution_count": 8,
   "id": "e5a2e9ed-a9c7-4813-9dd9-23c171c2f4a6",
   "metadata": {},
   "outputs": [],
   "source": [
    "# Initialize lists to store predictions and true labels\n",
    "predictions = []\n",
    "true_labels = []\n",
    "\n",
    "# Perform LOOCV\n",
    "for train_index, test_index in loo.split(X):\n",
    "    X_train, X_test = X[train_index], X[test_index]\n",
    "    y_train, y_test = y[train_index], y[test_index]\n",
    "    \n",
    "    # Train the classifier on the training set\n",
    "    classifier.fit(X_train, y_train)\n",
    "    \n",
    "    # Make predictions on the test set\n",
    "    y_pred = classifier.predict(X_test)\n",
    "  "
   ]
  },
  {
   "cell_type": "code",
   "execution_count": 9,
   "id": "11e8f707-4d8e-4e25-a409-e196addae2d8",
   "metadata": {},
   "outputs": [],
   "source": [
    "scores = cross_val_score(classifier, X, y, cv = loo)"
   ]
  },
  {
   "cell_type": "code",
   "execution_count": 10,
   "id": "a04193ae-7c8f-4e44-a536-37b2533c773e",
   "metadata": {},
   "outputs": [
    {
     "name": "stdout",
     "output_type": "stream",
     "text": [
      "Test accuracy: 1.0 validation accuracy 0.9666666666666667\n"
     ]
    }
   ],
   "source": [
    "accuracy = accuracy_score(y_test, y_pred)\n",
    "print(\"Test accuracy:\", accuracy, \"validation accuracy\", scores.mean())"
   ]
  },
  {
   "cell_type": "markdown",
   "id": "64e4ce0e-4bee-4c5c-8c64-f14c376c8987",
   "metadata": {},
   "source": [
    "## Optimalization"
   ]
  },
  {
   "cell_type": "code",
   "execution_count": 11,
   "id": "d4cdc19f-a70e-4e89-a1c3-b04b64c0b5a2",
   "metadata": {},
   "outputs": [],
   "source": [
    "X = iris.data\n",
    "y = iris.target"
   ]
  },
  {
   "cell_type": "code",
   "execution_count": 12,
   "id": "72d57b0f-177a-43c7-8bb8-611d75288f13",
   "metadata": {},
   "outputs": [],
   "source": [
    "cls = LogisticRegression(max_iter = 10000)\n",
    "C = [0.25, 0.5, 0.75, 1, 1.25, 1.5, 1.75, 2]"
   ]
  },
  {
   "cell_type": "code",
   "execution_count": 13,
   "id": "5112120d-9e5c-46c4-a59a-b99472393716",
   "metadata": {},
   "outputs": [],
   "source": [
    "scores = []\n",
    "\n",
    "for choice in C:\n",
    "  cls.set_params(C=choice)\n",
    "  cls.fit(X, y)\n",
    "  scores.append(cls.score(X, y))"
   ]
  },
  {
   "cell_type": "code",
   "execution_count": 14,
   "id": "22c51215-9a37-49df-b347-7888d52015d2",
   "metadata": {},
   "outputs": [
    {
     "name": "stdout",
     "output_type": "stream",
     "text": [
      "[0.9666666666666667, 0.9666666666666667, 0.9733333333333334, 0.9733333333333334, 0.98, 0.98, 0.9866666666666667, 0.9866666666666667]\n"
     ]
    }
   ],
   "source": [
    "print(scores) "
   ]
  },
  {
   "cell_type": "markdown",
   "id": "74d28341-5690-4565-830f-0dba81307712",
   "metadata": {},
   "source": [
    "## Tune Hyperparameters"
   ]
  },
  {
   "cell_type": "markdown",
   "id": "54127142-801a-4871-9dc2-90620dbd0c1f",
   "metadata": {},
   "source": [
    "#### Hyperparameters are the variables that the user specify usually while building the Machine Learning model k in knn cls\n",
    "#### Parameters are found by training the model, hyperparameters are set by the data scientist before training"
   ]
  },
  {
   "cell_type": "code",
   "execution_count": 15,
   "id": "7de0f2a3-b13d-49a2-b85b-4b0711c53892",
   "metadata": {},
   "outputs": [],
   "source": [
    "import numpy as np\n",
    "from sklearn.ensemble import RandomForestClassifier\n",
    "from sklearn.model_selection import GridSearchCV\n",
    "from scipy.stats import randint\n",
    "from sklearn.model_selection import RandomizedSearchCV"
   ]
  },
  {
   "cell_type": "code",
   "execution_count": 16,
   "id": "2cf1ff23-4645-4bcc-a06b-c52b636de369",
   "metadata": {},
   "outputs": [],
   "source": [
    "X_train, X_test, y_train, y_test = train_test_split(X,y,test_size=0.8, random_state=20)\n",
    "rf = RandomForestClassifier()"
   ]
  },
  {
   "cell_type": "code",
   "execution_count": 17,
   "id": "9b0f1fab-782e-44f8-bfbd-6113dc8592f7",
   "metadata": {},
   "outputs": [],
   "source": [
    "# grid search cv\n",
    "grid_space={'max_depth':[3,5,10,None],\n",
    "              'n_estimators':[10,100,200],\n",
    "              'max_features':[1,3,5,7],\n",
    "              'min_samples_leaf':[1,2,3],\n",
    "              'min_samples_split':[1,2,3]\n",
    "           }"
   ]
  },
  {
   "cell_type": "code",
   "execution_count": 18,
   "id": "544c78e3-3760-433b-9bb8-b22941a18d8c",
   "metadata": {},
   "outputs": [],
   "source": [
    "grid = GridSearchCV(rf,param_grid=grid_space,cv=3,scoring='accuracy')\n",
    "model_grid = grid.fit(X_train,y_train)"
   ]
  },
  {
   "cell_type": "code",
   "execution_count": 19,
   "id": "884b176c-ea4e-4365-97b5-fc060251b522",
   "metadata": {},
   "outputs": [
    {
     "name": "stdout",
     "output_type": "stream",
     "text": [
      "Best grid search hyperparameters are: {'max_depth': 5, 'max_features': 1, 'min_samples_leaf': 1, 'min_samples_split': 2, 'n_estimators': 10}\n",
      "Best grid search score is: 1.0\n"
     ]
    }
   ],
   "source": [
    "# grid search results\n",
    "print('Best grid search hyperparameters are: '+str(model_grid.best_params_))\n",
    "print('Best grid search score is: '+str(model_grid.best_score_))"
   ]
  },
  {
   "cell_type": "markdown",
   "id": "77769e27-75df-4c68-8d4d-781bed3e179c",
   "metadata": {},
   "source": [
    "### random search cv"
   ]
  },
  {
   "cell_type": "code",
   "execution_count": 20,
   "id": "fe9530ea-d44a-42ed-bed2-04fa3650ec89",
   "metadata": {},
   "outputs": [],
   "source": [
    "rs_space={'max_depth':list(np.arange(10, 100, step=10)) + [None],\n",
    "              'n_estimators':np.arange(10, 500, step=50),\n",
    "              'max_features':randint(1,7),\n",
    "              'criterion':['gini','entropy'],\n",
    "              'min_samples_leaf':randint(1,4),\n",
    "              'min_samples_split':np.arange(2, 10, step=2)\n",
    "          }"
   ]
  },
  {
   "cell_type": "code",
   "execution_count": 21,
   "id": "19116a3a-f7a1-45b0-9e89-75aed58aeb9c",
   "metadata": {},
   "outputs": [],
   "source": [
    "rf = RandomForestClassifier()\n",
    "\n",
    "rf_random = RandomizedSearchCV(rf, rs_space, n_iter=500, scoring='accuracy', n_jobs=-1, cv=3)\n",
    "model_random = rf_random.fit(X,y)"
   ]
  },
  {
   "cell_type": "code",
   "execution_count": 22,
   "id": "62fbbbb4-b929-4f35-b516-3c6dd084d08d",
   "metadata": {},
   "outputs": [
    {
     "name": "stdout",
     "output_type": "stream",
     "text": [
      "Best random search hyperparameters are: {'criterion': 'entropy', 'max_depth': 80, 'max_features': 2, 'min_samples_leaf': 1, 'min_samples_split': 8, 'n_estimators': 10}\n",
      "Best random search score is: 0.9733333333333333\n"
     ]
    }
   ],
   "source": [
    "# random random search results\n",
    "print('Best random search hyperparameters are: '+str(model_random.best_params_))\n",
    "print('Best random search score is: '+str(model_random.best_score_))"
   ]
  }
 ],
 "metadata": {
  "kernelspec": {
   "display_name": "Python 3 (ipykernel)",
   "language": "python",
   "name": "python3"
  },
  "language_info": {
   "codemirror_mode": {
    "name": "ipython",
    "version": 3
   },
   "file_extension": ".py",
   "mimetype": "text/x-python",
   "name": "python",
   "nbconvert_exporter": "python",
   "pygments_lexer": "ipython3",
   "version": "3.11.5"
  }
 },
 "nbformat": 4,
 "nbformat_minor": 5
}
