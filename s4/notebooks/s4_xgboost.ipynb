{
  "nbformat": 4,
  "nbformat_minor": 0,
  "metadata": {
    "colab": {
      "provenance": []
    },
    "kernelspec": {
      "name": "python3",
      "display_name": "Python 3"
    },
    "language_info": {
      "name": "python"
    }
  },
  "cells": [
    {
      "cell_type": "markdown",
      "source": [
        "## XGB on wine"
      ],
      "metadata": {
        "id": "qg8lNbzUCtgg"
      }
    },
    {
      "cell_type": "code",
      "source": [
        "import seaborn as sns\n",
        "import pandas as pd\n",
        "import numpy as np\n",
        "import matplotlib.pyplot as plt\n",
        "import warnings\n",
        "from sklearn.model_selection import train_test_split\n",
        "warnings.filterwarnings(\"ignore\")\n",
        "import xgboost as xgb\n",
        "from sklearn.datasets import load_wine"
      ],
      "metadata": {
        "id": "C0V7QGUdCy8B"
      },
      "execution_count": null,
      "outputs": []
    },
    {
      "cell_type": "code",
      "source": [
        "wine = load_wine()\n",
        "X, y = wine.data, wine.target\n",
        "X_train, X_test, y_train, y_test = train_test_split(X, y, random_state=1, stratify=y)"
      ],
      "metadata": {
        "id": "XUtVd0sxGROY"
      },
      "execution_count": null,
      "outputs": []
    },
    {
      "cell_type": "code",
      "source": [
        "xgb_classifier = xgb.XGBClassifier(n_estimators=150, objective='binary:logistic', tree_method='hist', eta=0.1, max_depth=5, enable_categorical=True, num_class=3)\n",
        "xgb_classifier.fit(X_train, y_train, early_stopping_rounds=5, eval_set=[(X_test, y_test)])"
      ],
      "metadata": {
        "colab": {
          "base_uri": "https://localhost:8080/",
          "height": 1000
        },
        "id": "ldzKF6zyFgQy",
        "outputId": "db29e984-09fa-4c82-c014-e4f93e8cafd5"
      },
      "execution_count": null,
      "outputs": [
        {
          "output_type": "stream",
          "name": "stdout",
          "text": [
            "[0]\tvalidation_0-mlogloss:0.98276\n",
            "[1]\tvalidation_0-mlogloss:0.88608\n",
            "[2]\tvalidation_0-mlogloss:0.80343\n",
            "[3]\tvalidation_0-mlogloss:0.73513\n",
            "[4]\tvalidation_0-mlogloss:0.67247\n",
            "[5]\tvalidation_0-mlogloss:0.61995\n",
            "[6]\tvalidation_0-mlogloss:0.57327\n",
            "[7]\tvalidation_0-mlogloss:0.52851\n",
            "[8]\tvalidation_0-mlogloss:0.48837\n",
            "[9]\tvalidation_0-mlogloss:0.45549\n",
            "[10]\tvalidation_0-mlogloss:0.42282\n",
            "[11]\tvalidation_0-mlogloss:0.39290\n",
            "[12]\tvalidation_0-mlogloss:0.36978\n",
            "[13]\tvalidation_0-mlogloss:0.34524\n",
            "[14]\tvalidation_0-mlogloss:0.32355\n",
            "[15]\tvalidation_0-mlogloss:0.30560\n",
            "[16]\tvalidation_0-mlogloss:0.28855\n",
            "[17]\tvalidation_0-mlogloss:0.27168\n",
            "[18]\tvalidation_0-mlogloss:0.25595\n",
            "[19]\tvalidation_0-mlogloss:0.24220\n",
            "[20]\tvalidation_0-mlogloss:0.22911\n",
            "[21]\tvalidation_0-mlogloss:0.21693\n",
            "[22]\tvalidation_0-mlogloss:0.20657\n",
            "[23]\tvalidation_0-mlogloss:0.19757\n",
            "[24]\tvalidation_0-mlogloss:0.18955\n",
            "[25]\tvalidation_0-mlogloss:0.18299\n",
            "[26]\tvalidation_0-mlogloss:0.17603\n",
            "[27]\tvalidation_0-mlogloss:0.17008\n",
            "[28]\tvalidation_0-mlogloss:0.16309\n",
            "[29]\tvalidation_0-mlogloss:0.15633\n",
            "[30]\tvalidation_0-mlogloss:0.15009\n",
            "[31]\tvalidation_0-mlogloss:0.14403\n",
            "[32]\tvalidation_0-mlogloss:0.14079\n",
            "[33]\tvalidation_0-mlogloss:0.13700\n",
            "[34]\tvalidation_0-mlogloss:0.13293\n",
            "[35]\tvalidation_0-mlogloss:0.12910\n",
            "[36]\tvalidation_0-mlogloss:0.12677\n",
            "[37]\tvalidation_0-mlogloss:0.12406\n",
            "[38]\tvalidation_0-mlogloss:0.11946\n",
            "[39]\tvalidation_0-mlogloss:0.11782\n",
            "[40]\tvalidation_0-mlogloss:0.11413\n",
            "[41]\tvalidation_0-mlogloss:0.11192\n",
            "[42]\tvalidation_0-mlogloss:0.11028\n",
            "[43]\tvalidation_0-mlogloss:0.10722\n",
            "[44]\tvalidation_0-mlogloss:0.10545\n",
            "[45]\tvalidation_0-mlogloss:0.10448\n",
            "[46]\tvalidation_0-mlogloss:0.10094\n",
            "[47]\tvalidation_0-mlogloss:0.09992\n",
            "[48]\tvalidation_0-mlogloss:0.09918\n",
            "[49]\tvalidation_0-mlogloss:0.09705\n",
            "[50]\tvalidation_0-mlogloss:0.09640\n",
            "[51]\tvalidation_0-mlogloss:0.09512\n",
            "[52]\tvalidation_0-mlogloss:0.09325\n",
            "[53]\tvalidation_0-mlogloss:0.09248\n",
            "[54]\tvalidation_0-mlogloss:0.09084\n",
            "[55]\tvalidation_0-mlogloss:0.09051\n",
            "[56]\tvalidation_0-mlogloss:0.09022\n",
            "[57]\tvalidation_0-mlogloss:0.08966\n",
            "[58]\tvalidation_0-mlogloss:0.08769\n",
            "[59]\tvalidation_0-mlogloss:0.08740\n",
            "[60]\tvalidation_0-mlogloss:0.08646\n",
            "[61]\tvalidation_0-mlogloss:0.08515\n",
            "[62]\tvalidation_0-mlogloss:0.08408\n",
            "[63]\tvalidation_0-mlogloss:0.08390\n",
            "[64]\tvalidation_0-mlogloss:0.08279\n",
            "[65]\tvalidation_0-mlogloss:0.08229\n",
            "[66]\tvalidation_0-mlogloss:0.08215\n",
            "[67]\tvalidation_0-mlogloss:0.08126\n",
            "[68]\tvalidation_0-mlogloss:0.08117\n",
            "[69]\tvalidation_0-mlogloss:0.08008\n",
            "[70]\tvalidation_0-mlogloss:0.07969\n",
            "[71]\tvalidation_0-mlogloss:0.07890\n",
            "[72]\tvalidation_0-mlogloss:0.07845\n",
            "[73]\tvalidation_0-mlogloss:0.07772\n",
            "[74]\tvalidation_0-mlogloss:0.07753\n",
            "[75]\tvalidation_0-mlogloss:0.07749\n",
            "[76]\tvalidation_0-mlogloss:0.07667\n",
            "[77]\tvalidation_0-mlogloss:0.07647\n",
            "[78]\tvalidation_0-mlogloss:0.07569\n",
            "[79]\tvalidation_0-mlogloss:0.07572\n",
            "[80]\tvalidation_0-mlogloss:0.07577\n",
            "[81]\tvalidation_0-mlogloss:0.07524\n",
            "[82]\tvalidation_0-mlogloss:0.07518\n",
            "[83]\tvalidation_0-mlogloss:0.07464\n",
            "[84]\tvalidation_0-mlogloss:0.07459\n",
            "[85]\tvalidation_0-mlogloss:0.07407\n",
            "[86]\tvalidation_0-mlogloss:0.07402\n",
            "[87]\tvalidation_0-mlogloss:0.07352\n",
            "[88]\tvalidation_0-mlogloss:0.07348\n",
            "[89]\tvalidation_0-mlogloss:0.07300\n",
            "[90]\tvalidation_0-mlogloss:0.07297\n",
            "[91]\tvalidation_0-mlogloss:0.07248\n",
            "[92]\tvalidation_0-mlogloss:0.07202\n",
            "[93]\tvalidation_0-mlogloss:0.07214\n",
            "[94]\tvalidation_0-mlogloss:0.07166\n",
            "[95]\tvalidation_0-mlogloss:0.07120\n",
            "[96]\tvalidation_0-mlogloss:0.07136\n",
            "[97]\tvalidation_0-mlogloss:0.07091\n",
            "[98]\tvalidation_0-mlogloss:0.07106\n",
            "[99]\tvalidation_0-mlogloss:0.07063\n",
            "[100]\tvalidation_0-mlogloss:0.07078\n",
            "[101]\tvalidation_0-mlogloss:0.07036\n",
            "[102]\tvalidation_0-mlogloss:0.07051\n",
            "[103]\tvalidation_0-mlogloss:0.07014\n",
            "[104]\tvalidation_0-mlogloss:0.07029\n",
            "[105]\tvalidation_0-mlogloss:0.06992\n",
            "[106]\tvalidation_0-mlogloss:0.07007\n",
            "[107]\tvalidation_0-mlogloss:0.06972\n",
            "[108]\tvalidation_0-mlogloss:0.06987\n",
            "[109]\tvalidation_0-mlogloss:0.07002\n",
            "[110]\tvalidation_0-mlogloss:0.06969\n",
            "[111]\tvalidation_0-mlogloss:0.06936\n",
            "[112]\tvalidation_0-mlogloss:0.06952\n",
            "[113]\tvalidation_0-mlogloss:0.06967\n",
            "[114]\tvalidation_0-mlogloss:0.06934\n",
            "[115]\tvalidation_0-mlogloss:0.06950\n",
            "[116]\tvalidation_0-mlogloss:0.06965\n",
            "[117]\tvalidation_0-mlogloss:0.06980\n",
            "[118]\tvalidation_0-mlogloss:0.06947\n"
          ]
        },
        {
          "output_type": "execute_result",
          "data": {
            "text/plain": [
              "XGBClassifier(base_score=None, booster=None, callbacks=None,\n",
              "              colsample_bylevel=None, colsample_bynode=None,\n",
              "              colsample_bytree=None, device=None, early_stopping_rounds=None,\n",
              "              enable_categorical=True, eta=0.1, eval_metric=None,\n",
              "              feature_types=None, gamma=None, grow_policy=None,\n",
              "              importance_type=None, interaction_constraints=None,\n",
              "              learning_rate=None, max_bin=None, max_cat_threshold=None,\n",
              "              max_cat_to_onehot=None, max_delta_step=None, max_depth=5,\n",
              "              max_leaves=None, min_child_weight=None, missing=nan,\n",
              "              monotone_constraints=None, multi_strategy=None, n_estimators=150,\n",
              "              n_jobs=None, num_class=3, ...)"
            ],
            "text/html": [
              "<style>#sk-container-id-1 {color: black;background-color: white;}#sk-container-id-1 pre{padding: 0;}#sk-container-id-1 div.sk-toggleable {background-color: white;}#sk-container-id-1 label.sk-toggleable__label {cursor: pointer;display: block;width: 100%;margin-bottom: 0;padding: 0.3em;box-sizing: border-box;text-align: center;}#sk-container-id-1 label.sk-toggleable__label-arrow:before {content: \"▸\";float: left;margin-right: 0.25em;color: #696969;}#sk-container-id-1 label.sk-toggleable__label-arrow:hover:before {color: black;}#sk-container-id-1 div.sk-estimator:hover label.sk-toggleable__label-arrow:before {color: black;}#sk-container-id-1 div.sk-toggleable__content {max-height: 0;max-width: 0;overflow: hidden;text-align: left;background-color: #f0f8ff;}#sk-container-id-1 div.sk-toggleable__content pre {margin: 0.2em;color: black;border-radius: 0.25em;background-color: #f0f8ff;}#sk-container-id-1 input.sk-toggleable__control:checked~div.sk-toggleable__content {max-height: 200px;max-width: 100%;overflow: auto;}#sk-container-id-1 input.sk-toggleable__control:checked~label.sk-toggleable__label-arrow:before {content: \"▾\";}#sk-container-id-1 div.sk-estimator input.sk-toggleable__control:checked~label.sk-toggleable__label {background-color: #d4ebff;}#sk-container-id-1 div.sk-label input.sk-toggleable__control:checked~label.sk-toggleable__label {background-color: #d4ebff;}#sk-container-id-1 input.sk-hidden--visually {border: 0;clip: rect(1px 1px 1px 1px);clip: rect(1px, 1px, 1px, 1px);height: 1px;margin: -1px;overflow: hidden;padding: 0;position: absolute;width: 1px;}#sk-container-id-1 div.sk-estimator {font-family: monospace;background-color: #f0f8ff;border: 1px dotted black;border-radius: 0.25em;box-sizing: border-box;margin-bottom: 0.5em;}#sk-container-id-1 div.sk-estimator:hover {background-color: #d4ebff;}#sk-container-id-1 div.sk-parallel-item::after {content: \"\";width: 100%;border-bottom: 1px solid gray;flex-grow: 1;}#sk-container-id-1 div.sk-label:hover label.sk-toggleable__label {background-color: #d4ebff;}#sk-container-id-1 div.sk-serial::before {content: \"\";position: absolute;border-left: 1px solid gray;box-sizing: border-box;top: 0;bottom: 0;left: 50%;z-index: 0;}#sk-container-id-1 div.sk-serial {display: flex;flex-direction: column;align-items: center;background-color: white;padding-right: 0.2em;padding-left: 0.2em;position: relative;}#sk-container-id-1 div.sk-item {position: relative;z-index: 1;}#sk-container-id-1 div.sk-parallel {display: flex;align-items: stretch;justify-content: center;background-color: white;position: relative;}#sk-container-id-1 div.sk-item::before, #sk-container-id-1 div.sk-parallel-item::before {content: \"\";position: absolute;border-left: 1px solid gray;box-sizing: border-box;top: 0;bottom: 0;left: 50%;z-index: -1;}#sk-container-id-1 div.sk-parallel-item {display: flex;flex-direction: column;z-index: 1;position: relative;background-color: white;}#sk-container-id-1 div.sk-parallel-item:first-child::after {align-self: flex-end;width: 50%;}#sk-container-id-1 div.sk-parallel-item:last-child::after {align-self: flex-start;width: 50%;}#sk-container-id-1 div.sk-parallel-item:only-child::after {width: 0;}#sk-container-id-1 div.sk-dashed-wrapped {border: 1px dashed gray;margin: 0 0.4em 0.5em 0.4em;box-sizing: border-box;padding-bottom: 0.4em;background-color: white;}#sk-container-id-1 div.sk-label label {font-family: monospace;font-weight: bold;display: inline-block;line-height: 1.2em;}#sk-container-id-1 div.sk-label-container {text-align: center;}#sk-container-id-1 div.sk-container {/* jupyter's `normalize.less` sets `[hidden] { display: none; }` but bootstrap.min.css set `[hidden] { display: none !important; }` so we also need the `!important` here to be able to override the default hidden behavior on the sphinx rendered scikit-learn.org. See: https://github.com/scikit-learn/scikit-learn/issues/21755 */display: inline-block !important;position: relative;}#sk-container-id-1 div.sk-text-repr-fallback {display: none;}</style><div id=\"sk-container-id-1\" class=\"sk-top-container\"><div class=\"sk-text-repr-fallback\"><pre>XGBClassifier(base_score=None, booster=None, callbacks=None,\n",
              "              colsample_bylevel=None, colsample_bynode=None,\n",
              "              colsample_bytree=None, device=None, early_stopping_rounds=None,\n",
              "              enable_categorical=True, eta=0.1, eval_metric=None,\n",
              "              feature_types=None, gamma=None, grow_policy=None,\n",
              "              importance_type=None, interaction_constraints=None,\n",
              "              learning_rate=None, max_bin=None, max_cat_threshold=None,\n",
              "              max_cat_to_onehot=None, max_delta_step=None, max_depth=5,\n",
              "              max_leaves=None, min_child_weight=None, missing=nan,\n",
              "              monotone_constraints=None, multi_strategy=None, n_estimators=150,\n",
              "              n_jobs=None, num_class=3, ...)</pre><b>In a Jupyter environment, please rerun this cell to show the HTML representation or trust the notebook. <br />On GitHub, the HTML representation is unable to render, please try loading this page with nbviewer.org.</b></div><div class=\"sk-container\" hidden><div class=\"sk-item\"><div class=\"sk-estimator sk-toggleable\"><input class=\"sk-toggleable__control sk-hidden--visually\" id=\"sk-estimator-id-1\" type=\"checkbox\" checked><label for=\"sk-estimator-id-1\" class=\"sk-toggleable__label sk-toggleable__label-arrow\">XGBClassifier</label><div class=\"sk-toggleable__content\"><pre>XGBClassifier(base_score=None, booster=None, callbacks=None,\n",
              "              colsample_bylevel=None, colsample_bynode=None,\n",
              "              colsample_bytree=None, device=None, early_stopping_rounds=None,\n",
              "              enable_categorical=True, eta=0.1, eval_metric=None,\n",
              "              feature_types=None, gamma=None, grow_policy=None,\n",
              "              importance_type=None, interaction_constraints=None,\n",
              "              learning_rate=None, max_bin=None, max_cat_threshold=None,\n",
              "              max_cat_to_onehot=None, max_delta_step=None, max_depth=5,\n",
              "              max_leaves=None, min_child_weight=None, missing=nan,\n",
              "              monotone_constraints=None, multi_strategy=None, n_estimators=150,\n",
              "              n_jobs=None, num_class=3, ...)</pre></div></div></div></div></div>"
            ]
          },
          "metadata": {},
          "execution_count": 3
        }
      ]
    },
    {
      "cell_type": "code",
      "source": [
        "y_pred = xgb_classifier.predict(X_test)"
      ],
      "metadata": {
        "id": "VIJiKpIIFkeD"
      },
      "execution_count": null,
      "outputs": []
    },
    {
      "cell_type": "code",
      "source": [
        "from sklearn.metrics import accuracy_score\n",
        "accuracy = accuracy_score(y_test, y_pred)\n",
        "accuracy"
      ],
      "metadata": {
        "colab": {
          "base_uri": "https://localhost:8080/"
        },
        "id": "ekbm9uGAFoCH",
        "outputId": "626b861a-e2f6-4778-cc6e-c48487bf73e3"
      },
      "execution_count": null,
      "outputs": [
        {
          "output_type": "execute_result",
          "data": {
            "text/plain": [
              "0.9777777777777777"
            ]
          },
          "metadata": {},
          "execution_count": 5
        }
      ]
    },
    {
      "cell_type": "code",
      "source": [
        "xgb_classifier.score(X_train, y_train)"
      ],
      "metadata": {
        "colab": {
          "base_uri": "https://localhost:8080/"
        },
        "id": "IICYWHa3FrJJ",
        "outputId": "1530a2a3-5a65-4936-d367-8ecfd3714508"
      },
      "execution_count": null,
      "outputs": [
        {
          "output_type": "execute_result",
          "data": {
            "text/plain": [
              "1.0"
            ]
          },
          "metadata": {},
          "execution_count": 6
        }
      ]
    },
    {
      "cell_type": "code",
      "source": [
        "xgb.plot_importance(xgb_classifier, ylabel='Features')"
      ],
      "metadata": {
        "colab": {
          "base_uri": "https://localhost:8080/",
          "height": 489
        },
        "id": "4vngE5GcFvPE",
        "outputId": "2a749178-9f34-4ec6-85d1-97ba6fd55380"
      },
      "execution_count": null,
      "outputs": [
        {
          "output_type": "execute_result",
          "data": {
            "text/plain": [
              "<Axes: title={'center': 'Feature importance'}, xlabel='F score', ylabel='Features'>"
            ]
          },
          "metadata": {},
          "execution_count": 7
        },
        {
          "output_type": "display_data",
          "data": {
            "text/plain": [
              "<Figure size 640x480 with 1 Axes>"
            ],
            "image/png": "[encoded data removed]"
          },
          "metadata": {}
        }
      ]
    },
    {
      "cell_type": "code",
      "source": [
        "a=0\n",
        "for w in wine.feature_names:\n",
        "  print(w,a)\n",
        "  a+=1\n"
      ],
      "metadata": {
        "colab": {
          "base_uri": "https://localhost:8080/"
        },
        "id": "e-YddTvjmuwc",
        "outputId": "f134c6e1-2b77-4d22-f50f-fc702f19b143"
      },
      "execution_count": null,
      "outputs": [
        {
          "output_type": "stream",
          "name": "stdout",
          "text": [
            "alcohol 0\n",
            "malic_acid 1\n",
            "ash 2\n",
            "alcalinity_of_ash 3\n",
            "magnesium 4\n",
            "total_phenols 5\n",
            "flavanoids 6\n",
            "nonflavanoid_phenols 7\n",
            "proanthocyanins 8\n",
            "color_intensity 9\n",
            "hue 10\n",
            "od280/od315_of_diluted_wines 11\n",
            "proline 12\n"
          ]
        }
      ]
    },
    {
      "cell_type": "markdown",
      "source": [
        "## Grid Search to find best params"
      ],
      "metadata": {
        "id": "CQ6GVmGckRn3"
      }
    },
    {
      "cell_type": "code",
      "source": [
        "from sklearn.model_selection import GridSearchCV\n",
        "param_grid = {\n",
        "    'learning_rate': [0.01, 0.1, 0.2],\n",
        "    'n_estimators': [100, 200, 300],\n",
        "    'max_depth': [3, 4, 5]\n",
        "}\n",
        "grid_search = GridSearchCV(estimator=xgb.XGBClassifier(), param_grid=param_grid, cv=5)\n",
        "grid_search.fit(X_train, y_train)\n",
        "best_params = grid_search.best_params_"
      ],
      "metadata": {
        "id": "0HBxbB-WKXIT"
      },
      "execution_count": null,
      "outputs": []
    },
    {
      "cell_type": "code",
      "source": [
        "model = grid_search.best_estimator_\n",
        "model.fit(X_train, y_train)\n",
        "train_score, test_score = model.score(X_train, y_train), model.score(X_test, y_test)\n",
        "train_score, test_score"
      ],
      "metadata": {
        "colab": {
          "base_uri": "https://localhost:8080/"
        },
        "id": "dQC4yp0TKXxi",
        "outputId": "0df5d81f-45a5-498d-f734-f678fd0c693c"
      },
      "execution_count": null,
      "outputs": [
        {
          "output_type": "execute_result",
          "data": {
            "text/plain": [
              "(1.0, 0.9777777777777777)"
            ]
          },
          "metadata": {},
          "execution_count": 10
        }
      ]
    },
    {
      "cell_type": "code",
      "source": [
        "xgb.plot_importance(model, ylabel='Features', show_values=True)"
      ],
      "metadata": {
        "colab": {
          "base_uri": "https://localhost:8080/",
          "height": 489
        },
        "id": "NA2nuWsNjcg_",
        "outputId": "a7e5d45e-e879-4e70-8104-67be211a96f4"
      },
      "execution_count": null,
      "outputs": [
        {
          "output_type": "execute_result",
          "data": {
            "text/plain": [
              "<Axes: title={'center': 'Feature importance'}, xlabel='F score', ylabel='Features'>"
            ]
          },
          "metadata": {},
          "execution_count": 11
        },
        {
          "output_type": "display_data",
          "data": {
            "text/plain": [
              "<Figure size 640x480 with 1 Axes>"
            ],
            "image/png": "[encoded data removed]"
          },
          "metadata": {}
        }
      ]
    },
    {
      "cell_type": "code",
      "source": [
        "a=0\n",
        "for w in wine.feature_names:\n",
        "  print(w,a)\n",
        "  a+=1\n"
      ],
      "metadata": {
        "colab": {
          "base_uri": "https://localhost:8080/"
        },
        "id": "7qgDRdPMjgj_",
        "outputId": "3f7e8200-233a-4336-d8b7-3f6e47fc5b3c"
      },
      "execution_count": null,
      "outputs": [
        {
          "output_type": "stream",
          "name": "stdout",
          "text": [
            "alcohol 0\n",
            "malic_acid 1\n",
            "ash 2\n",
            "alcalinity_of_ash 3\n",
            "magnesium 4\n",
            "total_phenols 5\n",
            "flavanoids 6\n",
            "nonflavanoid_phenols 7\n",
            "proanthocyanins 8\n",
            "color_intensity 9\n",
            "hue 10\n",
            "od280/od315_of_diluted_wines 11\n",
            "proline 12\n"
          ]
        }
      ]
    },
    {
      "cell_type": "code",
      "source": [],
      "metadata": {
        "id": "uhHcMql1neaO"
      },
      "execution_count": null,
      "outputs": []
    }
  ]
}