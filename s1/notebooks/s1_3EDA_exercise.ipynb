{
 "cells": [
  {
   "cell_type": "code",
   "execution_count": 4,
   "id": "c735dea2-e8ca-447d-ab3a-6f71f06f1b19",
   "metadata": {},
   "outputs": [],
   "source": [
    "import numpy as np\n",
    "import pandas as pd\n",
    "\n",
    "pd.set_option(\"display.max.columns\", 100)\n",
    "\n",
    "%matplotlib inline\n",
    "\n",
    "import warnings\n",
    "\n",
    "import matplotlib.pyplot as plt\n",
    "import seaborn as sns\n",
    "\n",
    "warnings.filterwarnings(\"ignore\")"
   ]
  },
  {
   "cell_type": "code",
   "execution_count": 5,
   "id": "b8f8a3fa-5701-49df-a81e-e963709f1c36",
   "metadata": {},
   "outputs": [],
   "source": [
    "DATA_URL = \"https://raw.githubusercontent.com/Yorko/mlcourse.ai/main/data/\""
   ]
  },
  {
   "cell_type": "code",
   "execution_count": 9,
   "id": "d8e15b02-ce05-46a6-a7e4-ea7e9f5fe36c",
   "metadata": {},
   "outputs": [
    {
     "data": {
      "text/html": [
       "<div>\n",
       "<style scoped>\n",
       "    .dataframe tbody tr th:only-of-type {\n",
       "        vertical-align: middle;\n",
       "    }\n",
       "\n",
       "    .dataframe tbody tr th {\n",
       "        vertical-align: top;\n",
       "    }\n",
       "\n",
       "    .dataframe thead th {\n",
       "        text-align: right;\n",
       "    }\n",
       "</style>\n",
       "<table border=\"1\" class=\"dataframe\">\n",
       "  <thead>\n",
       "    <tr style=\"text-align: right;\">\n",
       "      <th></th>\n",
       "      <th>age</th>\n",
       "      <th>workclass</th>\n",
       "      <th>fnlwgt</th>\n",
       "      <th>education</th>\n",
       "      <th>education-num</th>\n",
       "      <th>marital-status</th>\n",
       "      <th>occupation</th>\n",
       "      <th>relationship</th>\n",
       "      <th>race</th>\n",
       "      <th>sex</th>\n",
       "      <th>capital-gain</th>\n",
       "      <th>capital-loss</th>\n",
       "      <th>hours-per-week</th>\n",
       "      <th>native-country</th>\n",
       "      <th>salary</th>\n",
       "    </tr>\n",
       "  </thead>\n",
       "  <tbody>\n",
       "    <tr>\n",
       "      <th>0</th>\n",
       "      <td>39</td>\n",
       "      <td>State-gov</td>\n",
       "      <td>77516</td>\n",
       "      <td>Bachelors</td>\n",
       "      <td>13</td>\n",
       "      <td>Never-married</td>\n",
       "      <td>Adm-clerical</td>\n",
       "      <td>Not-in-family</td>\n",
       "      <td>White</td>\n",
       "      <td>Male</td>\n",
       "      <td>2174</td>\n",
       "      <td>0</td>\n",
       "      <td>40</td>\n",
       "      <td>United-States</td>\n",
       "      <td>&lt;=50K</td>\n",
       "    </tr>\n",
       "    <tr>\n",
       "      <th>1</th>\n",
       "      <td>50</td>\n",
       "      <td>Self-emp-not-inc</td>\n",
       "      <td>83311</td>\n",
       "      <td>Bachelors</td>\n",
       "      <td>13</td>\n",
       "      <td>Married-civ-spouse</td>\n",
       "      <td>Exec-managerial</td>\n",
       "      <td>Husband</td>\n",
       "      <td>White</td>\n",
       "      <td>Male</td>\n",
       "      <td>0</td>\n",
       "      <td>0</td>\n",
       "      <td>13</td>\n",
       "      <td>United-States</td>\n",
       "      <td>&lt;=50K</td>\n",
       "    </tr>\n",
       "    <tr>\n",
       "      <th>2</th>\n",
       "      <td>38</td>\n",
       "      <td>Private</td>\n",
       "      <td>215646</td>\n",
       "      <td>HS-grad</td>\n",
       "      <td>9</td>\n",
       "      <td>Divorced</td>\n",
       "      <td>Handlers-cleaners</td>\n",
       "      <td>Not-in-family</td>\n",
       "      <td>White</td>\n",
       "      <td>Male</td>\n",
       "      <td>0</td>\n",
       "      <td>0</td>\n",
       "      <td>40</td>\n",
       "      <td>United-States</td>\n",
       "      <td>&lt;=50K</td>\n",
       "    </tr>\n",
       "    <tr>\n",
       "      <th>3</th>\n",
       "      <td>53</td>\n",
       "      <td>Private</td>\n",
       "      <td>234721</td>\n",
       "      <td>11th</td>\n",
       "      <td>7</td>\n",
       "      <td>Married-civ-spouse</td>\n",
       "      <td>Handlers-cleaners</td>\n",
       "      <td>Husband</td>\n",
       "      <td>Black</td>\n",
       "      <td>Male</td>\n",
       "      <td>0</td>\n",
       "      <td>0</td>\n",
       "      <td>40</td>\n",
       "      <td>United-States</td>\n",
       "      <td>&lt;=50K</td>\n",
       "    </tr>\n",
       "    <tr>\n",
       "      <th>4</th>\n",
       "      <td>28</td>\n",
       "      <td>Private</td>\n",
       "      <td>338409</td>\n",
       "      <td>Bachelors</td>\n",
       "      <td>13</td>\n",
       "      <td>Married-civ-spouse</td>\n",
       "      <td>Prof-specialty</td>\n",
       "      <td>Wife</td>\n",
       "      <td>Black</td>\n",
       "      <td>Female</td>\n",
       "      <td>0</td>\n",
       "      <td>0</td>\n",
       "      <td>40</td>\n",
       "      <td>Cuba</td>\n",
       "      <td>&lt;=50K</td>\n",
       "    </tr>\n",
       "  </tbody>\n",
       "</table>\n",
       "</div>"
      ],
      "text/plain": [
       "   age         workclass  fnlwgt  education  education-num  \\\n",
       "0   39         State-gov   77516  Bachelors             13   \n",
       "1   50  Self-emp-not-inc   83311  Bachelors             13   \n",
       "2   38           Private  215646    HS-grad              9   \n",
       "3   53           Private  234721       11th              7   \n",
       "4   28           Private  338409  Bachelors             13   \n",
       "\n",
       "       marital-status         occupation   relationship   race     sex  \\\n",
       "0       Never-married       Adm-clerical  Not-in-family  White    Male   \n",
       "1  Married-civ-spouse    Exec-managerial        Husband  White    Male   \n",
       "2            Divorced  Handlers-cleaners  Not-in-family  White    Male   \n",
       "3  Married-civ-spouse  Handlers-cleaners        Husband  Black    Male   \n",
       "4  Married-civ-spouse     Prof-specialty           Wife  Black  Female   \n",
       "\n",
       "   capital-gain  capital-loss  hours-per-week native-country salary  \n",
       "0          2174             0              40  United-States  <=50K  \n",
       "1             0             0              13  United-States  <=50K  \n",
       "2             0             0              40  United-States  <=50K  \n",
       "3             0             0              40  United-States  <=50K  \n",
       "4             0             0              40           Cuba  <=50K  "
      ]
     },
     "execution_count": 9,
     "metadata": {},
     "output_type": "execute_result"
    }
   ],
   "source": [
    "# salary is your target data\n",
    "\n",
    "df = pd.read_csv(DATA_URL + \"adult.data.csv\")\n",
    "df.head()"
   ]
  },
  {
   "cell_type": "code",
   "execution_count": 10,
   "id": "4b3bde98-0e51-46c1-993c-0b61c9f30110",
   "metadata": {},
   "outputs": [],
   "source": [
    "# Check shape of data"
   ]
  },
  {
   "cell_type": "code",
   "execution_count": null,
   "id": "70f5ad70-d8a7-48ea-ad07-9b3c7098eedd",
   "metadata": {},
   "outputs": [],
   "source": []
  },
  {
   "cell_type": "code",
   "execution_count": 9,
   "id": "2ad815be-50dc-46b9-8022-1c15705f0333",
   "metadata": {},
   "outputs": [],
   "source": [
    "# Check if there are any missing values - hint - there are some '?'"
   ]
  },
  {
   "cell_type": "code",
   "execution_count": null,
   "id": "d35cbf46-eef9-4fa6-9a45-630cf6a7cf09",
   "metadata": {},
   "outputs": [],
   "source": []
  },
  {
   "cell_type": "code",
   "execution_count": null,
   "id": "8f1743d0-f5fc-4ab7-92e2-b59699eee1e6",
   "metadata": {},
   "outputs": [],
   "source": [
    "# check for colums names, datatypes, ect."
   ]
  },
  {
   "cell_type": "code",
   "execution_count": null,
   "id": "5dc63edf-f561-4c5c-9bc2-abd87acf910b",
   "metadata": {},
   "outputs": [],
   "source": []
  },
  {
   "cell_type": "code",
   "execution_count": null,
   "id": "9dde72eb-c74b-4d92-8cb0-4cf780da0cd4",
   "metadata": {},
   "outputs": [],
   "source": [
    "# Check for min, max, min, std, percentiles "
   ]
  },
  {
   "cell_type": "code",
   "execution_count": null,
   "id": "a83967dd-1ca2-4b5c-a8e0-802365d39df1",
   "metadata": {},
   "outputs": [],
   "source": []
  },
  {
   "cell_type": "code",
   "execution_count": null,
   "id": "bb7d4bd6-2cb4-4af5-b0f8-1403f2f4f0d3",
   "metadata": {},
   "outputs": [],
   "source": [
    "# check stats for non-numerical values"
   ]
  },
  {
   "cell_type": "code",
   "execution_count": null,
   "id": "6f95c0e7-6b35-44bb-8434-7d18262195fb",
   "metadata": {},
   "outputs": [],
   "source": []
  },
  {
   "cell_type": "code",
   "execution_count": 10,
   "id": "fb8a72fc-c828-4d7a-adc2-cbfca2cacea3",
   "metadata": {},
   "outputs": [],
   "source": [
    "# count values for non-numerical columns (do some normalization, don't be shy)"
   ]
  },
  {
   "cell_type": "code",
   "execution_count": null,
   "id": "19661aa5-79c4-4ff8-b4bb-493b4f216da8",
   "metadata": {},
   "outputs": [],
   "source": []
  },
  {
   "cell_type": "code",
   "execution_count": 11,
   "id": "05dcb8f0-11eb-4ae7-8fed-98fe6edbab47",
   "metadata": {},
   "outputs": [],
   "source": [
    "# replace/map salary and sex columns to boolean (0,1) and change its type to integer"
   ]
  },
  {
   "cell_type": "code",
   "execution_count": null,
   "id": "9227160e-7aa8-41d9-91c8-2d52b5d4cbc0",
   "metadata": {},
   "outputs": [],
   "source": []
  },
  {
   "cell_type": "code",
   "execution_count": null,
   "id": "a8ff7f8b-d150-4fea-8508-206c3ba7cc60",
   "metadata": {},
   "outputs": [],
   "source": [
    "# Make histogram of values"
   ]
  },
  {
   "cell_type": "code",
   "execution_count": null,
   "id": "2a940a91-347a-431e-abad-54c4a9dc8794",
   "metadata": {},
   "outputs": [],
   "source": []
  },
  {
   "cell_type": "code",
   "execution_count": null,
   "id": "90545054-1bf3-4a75-a45b-706453ca6804",
   "metadata": {},
   "outputs": [],
   "source": [
    "# Do correlation matrix"
   ]
  },
  {
   "cell_type": "code",
   "execution_count": null,
   "id": "2804a62d-be7b-4833-9db1-3989eda77bd0",
   "metadata": {},
   "outputs": [],
   "source": []
  },
  {
   "cell_type": "code",
   "execution_count": 8,
   "id": "8d943c38-67f1-485d-a568-9f71c20b3ccf",
   "metadata": {},
   "outputs": [],
   "source": [
    "# your conclusions, analize correlation with salary? "
   ]
  },
  {
   "cell_type": "code",
   "execution_count": null,
   "id": "4592ab05-b2b4-488d-8ef1-fbdb4a8436c8",
   "metadata": {},
   "outputs": [],
   "source": []
  },
  {
   "cell_type": "code",
   "execution_count": null,
   "id": "85f0cf9c-100b-4c89-9149-c5a1b25e88e2",
   "metadata": {},
   "outputs": [],
   "source": [
    "# analize the correlated variables with boxplots, contingency tables. "
   ]
  },
  {
   "cell_type": "code",
   "execution_count": null,
   "id": "2a4fe597-82ca-4908-b288-f038722502fd",
   "metadata": {},
   "outputs": [],
   "source": []
  },
  {
   "cell_type": "code",
   "execution_count": null,
   "id": "9081c87c-cba6-4a43-841f-c877c2600e8f",
   "metadata": {},
   "outputs": [],
   "source": [
    "# do countplots for non numerical values with salary as hue"
   ]
  },
  {
   "cell_type": "code",
   "execution_count": null,
   "id": "ceddab58-f1e7-4e74-9ab2-97456a7ebfec",
   "metadata": {},
   "outputs": [],
   "source": []
  },
  {
   "cell_type": "code",
   "execution_count": null,
   "id": "012c8691-f945-4493-bf3f-dad6b60d8fca",
   "metadata": {},
   "outputs": [],
   "source": [
    "# your conclusions"
   ]
  },
  {
   "cell_type": "code",
   "execution_count": null,
   "id": "f00c03ae-5681-47e7-846c-74c926fa42f9",
   "metadata": {},
   "outputs": [],
   "source": []
  }
 ],
 "metadata": {
  "kernelspec": {
   "display_name": "Python 3 (ipykernel)",
   "language": "python",
   "name": "python3"
  },
  "language_info": {
   "codemirror_mode": {
    "name": "ipython",
    "version": 3
   },
   "file_extension": ".py",
   "mimetype": "text/x-python",
   "name": "python",
   "nbconvert_exporter": "python",
   "pygments_lexer": "ipython3",
   "version": "3.11.5"
  }
 },
 "nbformat": 4,
 "nbformat_minor": 5
}
